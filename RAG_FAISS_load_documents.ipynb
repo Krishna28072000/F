{
 "cells": [
  {
   "cell_type": "markdown",
   "id": "692347d8",
   "metadata": {},
   "source": [
    "**Objective : Processing Document using RAG-FAISS**"
   ]
  },
  {
   "cell_type": "markdown",
   "id": "f977ced1",
   "metadata": {},
   "source": [
    "# Setting up Environment"
   ]
  },
  {
   "cell_type": "code",
   "execution_count": 4,
   "id": "2d41b06a-28b7-4366-bb5e-86a802320288",
   "metadata": {},
   "outputs": [],
   "source": [
    "import os\n",
    "os.environ[\"OPENAI_API_KEY\"]=\"ENTER_OPENAPI_AI_KEY_HERE\""
   ]
  },
  {
   "cell_type": "markdown",
   "id": "87659dae-db22-4bbd-9b46-f1c1499462aa",
   "metadata": {},
   "source": [
    "# loading documents into the DB using FAISS"
   ]
  },
  {
   "cell_type": "markdown",
   "id": "c2f1bca3",
   "metadata": {},
   "source": [
    "This code demonstrates how to process a PDF document and store its vectorized representation using FAISS (a library for efficient similarity search)."
   ]
  },
  {
   "cell_type": "code",
   "execution_count": 5,
   "id": "8cb54215-6cc5-4309-af3d-d40e9bcc421d",
   "metadata": {},
   "outputs": [],
   "source": [
    "\n",
    "from langchain_community.document_loaders import PyPDFLoader\n",
    "from langchain.text_splitter import RecursiveCharacterTextSplitter\n",
    "from langchain_community.vectorstores import FAISS\n",
    "from langchain_openai import OpenAIEmbeddings\n",
    "\n",
    "\n",
    "#create a new file named vectorstore in your current directory.\n",
    "if __name__==\"__main__\":\n",
    "        DB_FAISS_PATH = 'vectorstore/db_faiss1'\n",
    "        loader=PyPDFLoader(\"E:\\\\FAISS\\\\Bhagavad-gita-Swami-BG-Narasingha.pdf\")\n",
    "        docs=loader.load()\n",
    "        text_splitter = RecursiveCharacterTextSplitter(chunk_size=1000, chunk_overlap=200)\n",
    "        splits = text_splitter.split_documents(docs)\n",
    "        vectorstore = FAISS.from_documents(documents=splits, embedding=OpenAIEmbeddings())\n",
    "        vectorstore.save_local(DB_FAISS_PATH)"
   ]
  },
  {
   "cell_type": "markdown",
   "id": "efc659a5",
   "metadata": {},
   "source": [
    "* The process essentially converts a PDF into a searchable vector space model."
   ]
  }
 ],
 "metadata": {
  "kernelspec": {
   "display_name": "Python 3",
   "language": "python",
   "name": "python3"
  },
  "language_info": {
   "codemirror_mode": {
    "name": "ipython",
    "version": 3
   },
   "file_extension": ".py",
   "mimetype": "text/x-python",
   "name": "python",
   "nbconvert_exporter": "python",
   "pygments_lexer": "ipython3",
   "version": "3.12.8"
  }
 },
 "nbformat": 4,
 "nbformat_minor": 5
}
