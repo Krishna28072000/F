{
 "cells": [
  {
   "cell_type": "markdown",
   "id": "b8246a40",
   "metadata": {},
   "source": [
    "**Objective : Processing Document using RAG-FAISS**"
   ]
  },
  {
   "cell_type": "markdown",
   "id": "ea833f61",
   "metadata": {},
   "source": [
    "# Set up Environment"
   ]
  },
  {
   "cell_type": "code",
   "execution_count": 2,
   "id": "cc3d20d1-2238-49c9-85f4-e0d977d1bde1",
   "metadata": {},
   "outputs": [],
   "source": [
    "import os\n",
    "os.environ[\"OPENAI_API_KEY\"]=\"ENTER_OPENAI_API_KEY_HERE\"\n"
   ]
  },
  {
   "cell_type": "markdown",
   "id": "ce1c5c45",
   "metadata": {},
   "source": [
    "This function essentially loads and prepares a language model for further use in a larger application"
   ]
  },
  {
   "cell_type": "code",
   "execution_count": 3,
   "id": "c1fab72b-b6e6-4867-9b82-33a0bae218b7",
   "metadata": {},
   "outputs": [],
   "source": [
    "def load_llm():\n",
    "        from langchain_openai import ChatOpenAI\n",
    "        llm = ChatOpenAI(model_name=\"gpt-3.5-turbo\", temperature=1) #gpt-4o-mini\n",
    "        return llm"
   ]
  },
  {
   "cell_type": "markdown",
   "id": "a709bfce",
   "metadata": {},
   "source": [
    "# Creating a ChatPromptTemplate"
   ]
  },
  {
   "cell_type": "markdown",
   "id": "d34dc348",
   "metadata": {},
   "source": [
    "The function creates and returns a custom chat prompt template for use in Langchain."
   ]
  },
  {
   "cell_type": "code",
   "execution_count": 4,
   "id": "f5621a4e-138e-42c6-b137-7c79269b0690",
   "metadata": {},
   "outputs": [],
   "source": [
    "from langchain.prompts import ChatPromptTemplate\n",
    "\n",
    "def load_prompt():\n",
    "        prompt = \"\"\" You need to answer the question in the sentence as same as in the  pdf content. . \n",
    "        Given below is the context and question of the user.\n",
    "        context = {context}\n",
    "        question = {question}\n",
    "        if the answer is not in the pdf , answer \"Please change the question!\"\n",
    "         \"\"\"\n",
    "        prompt = ChatPromptTemplate.from_template(prompt)\n",
    "        return prompt"
   ]
  },
  {
   "cell_type": "markdown",
   "id": "56402a38",
   "metadata": {},
   "source": [
    "# Import Dependencies"
   ]
  },
  {
   "cell_type": "code",
   "execution_count": 5,
   "id": "5bd31def-aaa1-4bad-8991-4e3dc4bccd22",
   "metadata": {},
   "outputs": [],
   "source": [
    "from langchain_community.document_loaders import PyPDFLoader\n",
    "from langchain.text_splitter import RecursiveCharacterTextSplitter\n",
    "from langchain_community.vectorstores import FAISS\n",
    "from langchain_openai import OpenAIEmbeddings\n",
    "\n",
    "\n",
    "def load_knowledgeBasee():\n",
    "        embeddings=OpenAIEmbeddings()\n",
    "        DB_FAISS_PATH = 'vectorstore/db_faiss1'\n",
    "        db = FAISS.load_local(DB_FAISS_PATH, embeddings,allow_dangerous_deserialization=True)\n",
    "        return db"
   ]
  },
  {
   "cell_type": "code",
   "execution_count": 6,
   "id": "13e4003d-41ee-4ea9-a0ca-7a96882d8870",
   "metadata": {},
   "outputs": [],
   "source": [
    "knowledgeBase=load_knowledgeBasee()\n",
    "llm=load_llm()\n",
    "prompt=load_prompt()"
   ]
  },
  {
   "cell_type": "code",
   "execution_count": 7,
   "id": "29121cdc-2ed7-44c1-a602-59faa07773d4",
   "metadata": {},
   "outputs": [],
   "source": [
    "def format_docs(docs):\n",
    "        return \"\\n\\n\".join(doc.page_content for doc in docs)"
   ]
  },
  {
   "cell_type": "markdown",
   "id": "8155b51c",
   "metadata": {},
   "source": [
    "# Performing Retrieval Augumented Generation pipeline with multiple queries"
   ]
  },
  {
   "cell_type": "markdown",
   "id": "2cfc3826",
   "metadata": {},
   "source": [
    "This code sets up a retrieval-augmented generation (RAG) pipeline where similar documents are retrieved based on the query, a language model generates answers based on the retrieved context, and the final responses are returned for each query"
   ]
  },
  {
   "cell_type": "code",
   "execution_count": 8,
   "id": "9cc65f6e-6409-42d5-911e-d6fcd60f3527",
   "metadata": {},
   "outputs": [],
   "source": [
    "from langchain_core.runnables import RunnablePassthrough\n",
    "from langchain_core.output_parsers import StrOutputParser\n",
    "query = \"who is krishna\"\n",
    "query4 = \"who is Duryodhana\"\n",
    "query5 = \"who is kunti\"\n",
    "if True:\n",
    "    similar_embeddings=knowledgeBase.similarity_search(query)\n",
    "    similar_embeddings=knowledgeBase.similarity_search(query4)\n",
    "    similar_embeddings=knowledgeBase.similarity_search(query5)\n",
    "    similar_embeddings=FAISS.from_documents(documents=similar_embeddings, embedding=OpenAIEmbeddings())\n",
    "                \n",
    "    #creating the chain for integrating llm,prompt,stroutputparser\n",
    "    retriever = similar_embeddings.as_retriever()\n",
    "    rag_chain = (\n",
    "                        {\"context\": retriever | format_docs, \"question\": RunnablePassthrough()}\n",
    "                        | prompt\n",
    "                        | llm\n",
    "                        | StrOutputParser()\n",
    "                    )\n",
    "                \n",
    "    response4=rag_chain.invoke(query4)\n",
    "    response = rag_chain.invoke(query)\n",
    "    response5=rag_chain.invoke(query5)"
   ]
  },
  {
   "cell_type": "code",
   "execution_count": 9,
   "id": "bc9d137a",
   "metadata": {},
   "outputs": [
    {
     "data": {
      "text/plain": [
       "'Kuntî – Mother of the På√∂avas and aunt of Çrî K®ß√a.'"
      ]
     },
     "execution_count": 9,
     "metadata": {},
     "output_type": "execute_result"
    }
   ],
   "source": [
    "response5"
   ]
  },
  {
   "cell_type": "code",
   "execution_count": 10,
   "id": "37f7c663",
   "metadata": {},
   "outputs": [
    {
     "data": {
      "text/plain": [
       "'K®ß√a appeared in V®ndåvana, India, 5,237 years ago and performed His pastimes of love with His devotees and with those who had reached perfection through bhakti-yoga.'"
      ]
     },
     "execution_count": 10,
     "metadata": {},
     "output_type": "execute_result"
    }
   ],
   "source": [
    "response"
   ]
  },
  {
   "cell_type": "code",
   "execution_count": 11,
   "id": "e8a8db45-9254-4eac-903f-0f9e12171b64",
   "metadata": {},
   "outputs": [
    {
     "data": {
      "text/plain": [
       "'Duryodhana is the eldest son of King Dhritarashtra and the main antagonist in the Mahabharata, who fought against the Pandavas in the great war at Kurukshetra.'"
      ]
     },
     "execution_count": 11,
     "metadata": {},
     "output_type": "execute_result"
    }
   ],
   "source": [
    "response4"
   ]
  },
  {
   "cell_type": "code",
   "execution_count": 12,
   "id": "3228bb72",
   "metadata": {},
   "outputs": [
    {
     "data": {
      "text/plain": [
       "'Krsna appeared in Vrindavana, India, 5,237 years ago and performed His pastimes of love with His devotees and with those who had reached perfection through bhakti-yoga.'"
      ]
     },
     "execution_count": 12,
     "metadata": {},
     "output_type": "execute_result"
    }
   ],
   "source": [
    "query3 = \"who is krsna\"\n",
    "response3 = rag_chain.invoke(query3)\n",
    "response3"
   ]
  },
  {
   "cell_type": "code",
   "execution_count": 13,
   "id": "a5dc37de",
   "metadata": {},
   "outputs": [
    {
     "data": {
      "text/plain": [
       "\"Arjuna is the disciple in the sacred conversation between Çrî K®ß√a and himself, where he agrees to follow K®ß√a's instructions after his doubts and delusions are dispelled.\""
      ]
     },
     "execution_count": 13,
     "metadata": {},
     "output_type": "execute_result"
    }
   ],
   "source": [
    "query2 = \"who is Arjuna\"\n",
    "response2 = rag_chain.invoke(query2)\n",
    "response2"
   ]
  },
  {
   "cell_type": "code",
   "execution_count": 16,
   "id": "cca33023",
   "metadata": {},
   "outputs": [
    {
     "data": {
      "text/plain": [
       "'Balarama'"
      ]
     },
     "execution_count": 16,
     "metadata": {},
     "output_type": "execute_result"
    }
   ],
   "source": [
    "query6 = \"who is the elder brother of krsna\"\n",
    "response6 = rag_chain.invoke(query6)\n",
    "response6"
   ]
  },
  {
   "cell_type": "code",
   "execution_count": 17,
   "id": "44f6cd20",
   "metadata": {},
   "outputs": [
    {
     "data": {
      "text/plain": [
       "'The father of Abhimanyu is Arjuna.'"
      ]
     },
     "execution_count": 17,
     "metadata": {},
     "output_type": "execute_result"
    }
   ],
   "source": [
    "query7 = \"who is the father of Abhimanyu \"\n",
    "response7 = rag_chain.invoke(query7)\n",
    "response7"
   ]
  },
  {
   "cell_type": "code",
   "execution_count": 21,
   "id": "4714bc78",
   "metadata": {},
   "outputs": [
    {
     "data": {
      "text/plain": [
       "'Vidura was the half-brother of King Dhritarashtra and Pandu. He was born from the union of Veda Vyasa and a servant maid. He is considered as one of the wisest characters in the Mahabharata.'"
      ]
     },
     "execution_count": 21,
     "metadata": {},
     "output_type": "execute_result"
    }
   ],
   "source": [
    "query8 = \"who was vidhura and how he is related to vedvyasa\"\n",
    "response8 = rag_chain.invoke(query8)\n",
    "response8"
   ]
  },
  {
   "cell_type": "code",
   "execution_count": 42,
   "id": "183350d8",
   "metadata": {},
   "outputs": [
    {
     "data": {
      "text/plain": [
       "\"Arjuna used the brahmastra on Uttara's womb.\""
      ]
     },
     "execution_count": 42,
     "metadata": {},
     "output_type": "execute_result"
    }
   ],
   "source": [
    "query9 = \"who used brahmastra on uttara's womb ?\"\n",
    "response9 = rag_chain.invoke(query9)\n",
    "response9"
   ]
  },
  {
   "cell_type": "code",
   "execution_count": null,
   "id": "e6eefed2",
   "metadata": {},
   "outputs": [],
   "source": []
  }
 ],
 "metadata": {
  "kernelspec": {
   "display_name": "Python 3",
   "language": "python",
   "name": "python3"
  },
  "language_info": {
   "codemirror_mode": {
    "name": "ipython",
    "version": 3
   },
   "file_extension": ".py",
   "mimetype": "text/x-python",
   "name": "python",
   "nbconvert_exporter": "python",
   "pygments_lexer": "ipython3",
   "version": "3.12.8"
  }
 },
 "nbformat": 4,
 "nbformat_minor": 5
}
